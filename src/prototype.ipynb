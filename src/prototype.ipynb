{
 "cells": [
  {
   "cell_type": "code",
   "execution_count": 1,
   "metadata": {},
   "outputs": [],
   "source": [
    "import predictor\n",
    "import model_util as mu\n",
    "import data\n",
    "import torch"
   ]
  },
  {
   "cell_type": "code",
   "execution_count": 2,
   "metadata": {},
   "outputs": [
    {
     "name": "stdout",
     "output_type": "stream",
     "text": [
      "There are 1 GPU(s) available.\n",
      "Device name: NVIDIA GeForce RTX 3070\n"
     ]
    }
   ],
   "source": [
    "if torch.cuda.is_available():\n",
    "    device = torch.device(\"cuda\")\n",
    "    print(f'There are {torch.cuda.device_count()} GPU(s) available.')\n",
    "    print('Device name:', torch.cuda.get_device_name(0))\n",
    "\n",
    "else:\n",
    "    print('No GPU available, using the CPU instead.')\n",
    "    device = torch.device(\"cpu\")"
   ]
  },
  {
   "cell_type": "code",
   "execution_count": 3,
   "metadata": {},
   "outputs": [],
   "source": [
    "prefix = [0, 0, 0, 0, 0, 0, 0, 0, 0, 0, 0, 0, 0, 0, 0, 0, 0, 0, 0, 0, 0, 0, 0, 0, 0, 0, 0, 0, 0, 0, 0, 0, 0, 0, 0, 0, 0, 0, 0, 0, 0, 0, 0, 0, 0, 0, 0, 0, 0, 0, 0, 0, 0, 0, 0, 0, 0, 0, 128, 134, 56, 2, 47, 2]\n",
    "postfix = [47, 2, 124, 88, 48, 48, 2, 47, 89, 48, 2, 47, 47, 88, 48, 48, 2, 47, 89, 48, 2, 47, 47, 49, 48, 2, 56, 134, 91, 2, 121, 91, 2, 121, 91, 2, 2, 47, 2, 56, 134, 128, 50, 88, 48, 2, 47, 2, 124, 88, 48, 48, 2, 47, 89, 48, 2, 47, 47, 49, 48, 2, 121, 91]\n",
    "label_type = [2]\n",
    "label_prefix = [[0, 0, 0, 0, 0, 0, 0, 0, 0, 0, 0, 0, 0, 0, 0, 0, 0, 0, 0, 0, 0, 0, 0, 0, 0, 0, 0, 0, 0, 0, 0, 0, 0, 0, 0, 0, 0, 0, 0, 0, 0, 0, 0, 0, 0, 0, 0, 0, 0, 0, 0, 0, 0, 0, 0, 0, 0, 0, 0, 0, 0, 0, 0, 0]]\n",
    "label_postfix = [[0, 0, 0, 0, 0, 0, 0, 1, 0, 0, 0, 1, 0, 0, 0, 0, 0, 0, 0, 0, 0, 0, 0, 0, 0, 0, 0, 0, 1, 0, 0, 0, 0, 0, 0, 0, 0, 0, 0, 0, 0, 0, 0, 1, 0, 0, 0, 1, 0, 0, 0, 0, 0, 0, 0, 0, 0, 0, 0, 0, 0, 0, 0, 0]]\n",
    "case = 2"
   ]
  },
  {
   "cell_type": "code",
   "execution_count": 4,
   "metadata": {},
   "outputs": [
    {
     "name": "stdout",
     "output_type": "stream",
     "text": [
      "MySeq2Seq(\n",
      "  (prefixEncoder): Encoder(\n",
      "    (embedding): Embedding(214, 100)\n",
      "    (lstm): LSTM(100, 200, batch_first=True, bidirectional=True)\n",
      "    (hidden_fc): Linear(in_features=200, out_features=100, bias=True)\n",
      "    (cell_fc): Linear(in_features=200, out_features=100, bias=True)\n",
      "    (dp): Dropout(p=0.0, inplace=False)\n",
      "  )\n",
      "  (postfixEncoder): Encoder(\n",
      "    (embedding): Embedding(214, 100)\n",
      "    (lstm): LSTM(100, 200, batch_first=True, bidirectional=True)\n",
      "    (hidden_fc): Linear(in_features=200, out_features=100, bias=True)\n",
      "    (cell_fc): Linear(in_features=200, out_features=100, bias=True)\n",
      "    (dp): Dropout(p=0.0, inplace=False)\n",
      "  )\n",
      "  (decoder): Decoder(\n",
      "    (embedding): Embedding(214, 100)\n",
      "    (lstm): LSTM(100, 200, batch_first=True, bidirectional=True)\n",
      "  )\n",
      "  (pointer): PointerNetwork(\n",
      "    (fc1): Linear(in_features=800, out_features=400, bias=True)\n",
      "    (fc2): Linear(in_features=400, out_features=200, bias=True)\n",
      "    (fc3): Linear(in_features=200, out_features=1, bias=True)\n",
      "    (dp1): Dropout(p=0.0, inplace=False)\n",
      "    (dp2): Dropout(p=0.0, inplace=False)\n",
      "    (dp3): Dropout(p=0.0, inplace=False)\n",
      "    (sigmoid): Sigmoid()\n",
      "  )\n",
      ")\n"
     ]
    }
   ],
   "source": [
    "overall_title = 'fc3'\n",
    "title = overall_title + '_' + 'boringssl'\n",
    "\n",
    "model = mu.getModel(overall_title, title)\n",
    "print(model)"
   ]
  },
  {
   "cell_type": "code",
   "execution_count": 5,
   "metadata": {},
   "outputs": [],
   "source": [
    "prefix_likelihood, postfix_likelihood = predictor.predict(prefix, postfix, model=model, device=device)"
   ]
  },
  {
   "cell_type": "code",
   "execution_count": 6,
   "metadata": {},
   "outputs": [
    {
     "name": "stdout",
     "output_type": "stream",
     "text": [
      "64\n",
      "[0.0005260615143924952, 0.011463521048426628, 0.00624117674306035, 0.017344316467642784, 0.00451652193441987, 0.12341950088739395, 0.014709845185279846, 0.3277437388896942, 0.0006707368302159011, 0.003909464925527573, 0.0001074113097274676, 0.001990419114008546, 0.0001241036516148597, 0.0005689025274477899, 0.0007985385600477457, 0.0004326974740251899, 0.5763373374938965, 0.00010239950643153861, 0.16621091961860657, 0.0007921582437120378, 0.005551169626414776, 0.0005483469576574862, 0.003126463619992137, 0.0015446314355358481, 0.011264437809586525, 0.011366733349859715, 0.11134807765483856, 0.009732955135405064, 0.12686237692832947, 0.03374593332409859, 0.0026619164273142815, 0.03149835392832756, 0.014713991433382034, 0.03140145167708397, 0.015406199730932713, 0.02518356591463089, 0.059763163328170776, 0.06158027425408363, 0.06546127051115036, 0.04844513162970543, 0.04205990955233574, 0.06940649449825287, 0.05342663452029228, 0.0658169761300087, 0.07936783879995346, 0.039358727633953094, 0.06281457841396332, 0.03775729238986969, 0.018472909927368164, 0.07514434307813644, 0.020494194701313972, 0.0667843371629715, 0.02368457429111004, 0.07815324515104294, 0.013566608540713787, 0.05483744665980339, 0.05380832031369209, 0.02379552461206913, 0.07264456897974014, 0.057587556540966034, 0.019028060138225555, 0.023432059213519096, 0.006054332945495844, 0.019084583967924118]\n"
     ]
    }
   ],
   "source": [
    "print(len(prefix_likelihood))\n",
    "print(postfix_likelihood)"
   ]
  },
  {
   "cell_type": "code",
   "execution_count": null,
   "metadata": {},
   "outputs": [],
   "source": []
  }
 ],
 "metadata": {
  "kernelspec": {
   "display_name": "Python 3.9.12 ('base')",
   "language": "python",
   "name": "python3"
  },
  "language_info": {
   "codemirror_mode": {
    "name": "ipython",
    "version": 3
   },
   "file_extension": ".py",
   "mimetype": "text/x-python",
   "name": "python",
   "nbconvert_exporter": "python",
   "pygments_lexer": "ipython3",
   "version": "3.9.12"
  },
  "orig_nbformat": 4,
  "vscode": {
   "interpreter": {
    "hash": "348b9cd948ce87438be2e622031b2ecfa29bc2d3ecc0fd03127b9a24b30227df"
   }
  }
 },
 "nbformat": 4,
 "nbformat_minor": 2
}
